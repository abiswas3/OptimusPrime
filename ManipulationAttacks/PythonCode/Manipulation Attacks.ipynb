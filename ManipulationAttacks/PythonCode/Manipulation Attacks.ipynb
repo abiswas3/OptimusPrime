{
 "cells": [
  {
   "cell_type": "code",
   "execution_count": 1,
   "id": "69e29b94",
   "metadata": {},
   "outputs": [],
   "source": [
    "%matplotlib inline\n",
    "import numpy as np\n",
    "import pandas as pd\n",
    "import matplotlib.pyplot as plt\n",
    "import seaborn as sns\n",
    "from collections import Counter"
   ]
  },
  {
   "cell_type": "code",
   "execution_count": 2,
   "id": "eb8ffd60",
   "metadata": {},
   "outputs": [],
   "source": [
    "# THE INCORRECT CLAIM FROM THE PAPER\n",
    "n = 10000\n",
    "m = 400\n",
    "assert m <= n/8 \n",
    "\n"
   ]
  },
  {
   "cell_type": "code",
   "execution_count": 3,
   "id": "7f98640d",
   "metadata": {},
   "outputs": [
    {
     "name": "stdout",
     "output_type": "stream",
     "text": [
      "0.5 0.5294650923641242\n"
     ]
    },
    {
     "data": {
      "text/plain": [
       "<AxesSubplot:ylabel='Frequency'>"
      ]
     },
     "execution_count": 3,
     "metadata": {},
     "output_type": "execute_result"
    },
    {
     "data": {
      "image/png": "[encoded data removed]",
      "text/plain": [
       "<Figure size 432x288 with 1 Axes>"
      ]
     },
     "metadata": {
      "needs_background": "light"
     },
     "output_type": "display_data"
    }
   ],
   "source": [
    "# This is # CLAIM 3.5 in the paper: It has no dependence on epsilon\n",
    "log_6 = np.log(6)\n",
    "two_n = 2*n \n",
    "mu_mn = m/n + np.sqrt(2*log_6/n)\n",
    "\n",
    "p_0 = 1/2\n",
    "p_1 = 1/2 + 1/2*mu_mn\n",
    "print(p_0, p_1)\n",
    "d = {'corrupted': [], 'non_corrupted': []}\n",
    "for epoch in range(1000):\n",
    "    d['corrupted'].append(np.random.binomial(n-m, p_0)+m)\n",
    "    d['non_corrupted'].append(np.random.binomial(n, p_1))\n",
    "    \n",
    "pd.DataFrame(d).plot(kind='hist')"
   ]
  },
  {
   "cell_type": "code",
   "execution_count": 4,
   "id": "5486a18b",
   "metadata": {},
   "outputs": [
    {
     "name": "stdout",
     "output_type": "stream",
     "text": [
      "0.5 0.5014720281324955\n"
     ]
    },
    {
     "data": {
      "text/plain": [
       "<AxesSubplot:ylabel='Frequency'>"
      ]
     },
     "execution_count": 4,
     "metadata": {},
     "output_type": "execute_result"
    },
    {
     "data": {
      "image/png": "[encoded data removed]",
      "text/plain": [
       "<Figure size 432x288 with 1 Axes>"
      ]
     },
     "metadata": {
      "needs_background": "light"
     },
     "output_type": "display_data"
    }
   ],
   "source": [
    "# THE CORRECTED FORMULAE with dependence on epsilon\n",
    "eps = 0.1\n",
    "tmp = (np.e**eps-1)/(np.e**eps+1)\n",
    "mu_mne = mu_mn*tmp\n",
    "p_2 = 1/2 + 1/2*mu_mne\n",
    "print(p_0, p_2)\n",
    "\n",
    "d = {'corrupted': [], 'non_corrupted': []}\n",
    "for epoch in range(1000):\n",
    "    d['corrupted'].append(np.random.binomial(n-m, p_0)+m)\n",
    "    d['non_corrupted'].append(np.random.binomial(n, p_2))\n",
    "    \n",
    "pd.DataFrame(d).plot(kind='hist')"
   ]
  },
  {
   "cell_type": "code",
   "execution_count": 5,
   "id": "ce422c4e",
   "metadata": {},
   "outputs": [
    {
     "name": "stdout",
     "output_type": "stream",
     "text": [
      "0.5 1.0897928503272234\n"
     ]
    },
    {
     "ename": "ValueError",
     "evalue": "p < 0, p > 1 or p is NaN",
     "output_type": "error",
     "traceback": [
      "\u001b[0;31m---------------------------------------------------------------------------\u001b[0m",
      "\u001b[0;31mValueError\u001b[0m                                Traceback (most recent call last)",
      "Input \u001b[0;32mIn [5]\u001b[0m, in \u001b[0;36m<cell line: 11>\u001b[0;34m()\u001b[0m\n\u001b[1;32m     11\u001b[0m \u001b[38;5;28;01mfor\u001b[39;00m epoch \u001b[38;5;129;01min\u001b[39;00m \u001b[38;5;28mrange\u001b[39m(\u001b[38;5;241m1000\u001b[39m):\n\u001b[1;32m     12\u001b[0m     d[\u001b[38;5;124m'\u001b[39m\u001b[38;5;124mcorrupted\u001b[39m\u001b[38;5;124m'\u001b[39m]\u001b[38;5;241m.\u001b[39mappend(np\u001b[38;5;241m.\u001b[39mrandom\u001b[38;5;241m.\u001b[39mbinomial(n\u001b[38;5;241m-\u001b[39mm, p_0)\u001b[38;5;241m+\u001b[39mm)\n\u001b[0;32m---> 13\u001b[0m     d[\u001b[38;5;124m'\u001b[39m\u001b[38;5;124mnon_corrupted\u001b[39m\u001b[38;5;124m'\u001b[39m]\u001b[38;5;241m.\u001b[39mappend(\u001b[43mnp\u001b[49m\u001b[38;5;241;43m.\u001b[39;49m\u001b[43mrandom\u001b[49m\u001b[38;5;241;43m.\u001b[39;49m\u001b[43mbinomial\u001b[49m\u001b[43m(\u001b[49m\u001b[43mn\u001b[49m\u001b[43m,\u001b[49m\u001b[43m \u001b[49m\u001b[43mp_2\u001b[49m\u001b[43m)\u001b[49m)\n\u001b[1;32m     15\u001b[0m pd\u001b[38;5;241m.\u001b[39mDataFrame(d)\u001b[38;5;241m.\u001b[39mplot(kind\u001b[38;5;241m=\u001b[39m\u001b[38;5;124m'\u001b[39m\u001b[38;5;124mhist\u001b[39m\u001b[38;5;124m'\u001b[39m)\n",
      "File \u001b[0;32mmtrand.pyx:3415\u001b[0m, in \u001b[0;36mnumpy.random.mtrand.RandomState.binomial\u001b[0;34m()\u001b[0m\n",
      "File \u001b[0;32m_common.pyx:412\u001b[0m, in \u001b[0;36mnumpy.random._common.check_constraint\u001b[0;34m()\u001b[0m\n",
      "\u001b[0;31mValueError\u001b[0m: p < 0, p > 1 or p is NaN"
     ]
    }
   ],
   "source": [
    "####### USING THE FORMULA in the paper\n",
    "tmp = (np.e**eps+1)/(np.e**eps-1) #<------\n",
    "##############################\n",
    "\n",
    "mu_mne = mu_mn*tmp\n",
    "\n",
    "p_2 = 1/2 + 1/2*mu_mne\n",
    "print(p_0, p_2)\n",
    "\n",
    "d = {'corrupted': [], 'non_corrupted': []}\n",
    "for epoch in range(1000):\n",
    "    d['corrupted'].append(np.random.binomial(n-m, p_0)+m)\n",
    "    d['non_corrupted'].append(np.random.binomial(n, p_2))\n",
    "    \n",
    "pd.DataFrame(d).plot(kind='hist')\n"
   ]
  },
  {
   "cell_type": "code",
   "execution_count": null,
   "id": "a4f6ae77",
   "metadata": {},
   "outputs": [],
   "source": [
    "# Generate a radomised response with an actual biased sample\n",
    "# One in which "
   ]
  }
 ],
 "metadata": {
  "kernelspec": {
   "display_name": "Python 3 (ipykernel)",
   "language": "python",
   "name": "python3"
  },
  "language_info": {
   "codemirror_mode": {
    "name": "ipython",
    "version": 3
   },
   "file_extension": ".py",
   "mimetype": "text/x-python",
   "name": "python",
   "nbconvert_exporter": "python",
   "pygments_lexer": "ipython3",
   "version": "3.10.6"
  }
 },
 "nbformat": 4,
 "nbformat_minor": 5
}
