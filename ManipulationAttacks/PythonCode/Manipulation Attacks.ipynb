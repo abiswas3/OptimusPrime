{
 "cells": [
  {
   "cell_type": "code",
   "execution_count": 1,
   "id": "69e29b94",
   "metadata": {},
   "outputs": [],
   "source": [
    "%matplotlib inline\n",
    "import numpy as np\n",
    "import pandas as pd\n",
    "import matplotlib.pyplot as plt\n",
    "import seaborn as sns\n",
    "from collections import Counter"
   ]
  },
  {
   "cell_type": "code",
   "execution_count": 2,
   "id": "24cd77f7",
   "metadata": {},
   "outputs": [],
   "source": [
    "# Parameters \n",
    "n = 1000 # number of users\n",
    "p = 0.6 # parameter being estimated"
   ]
  },
  {
   "cell_type": "code",
   "execution_count": 3,
   "id": "ebecf743",
   "metadata": {},
   "outputs": [],
   "source": [
    "X = [1 if np.random.random() <= p else 0 for i in range(n)]"
   ]
  },
  {
   "cell_type": "code",
   "execution_count": 4,
   "id": "eb8ffd60",
   "metadata": {},
   "outputs": [],
   "source": [
    "# THE INCORRECT CLAIM FROM THE PAPER\n",
    "n = 10000\n",
    "m = 400\n",
    "assert m <= n/8 \n",
    "\n"
   ]
  },
  {
   "cell_type": "code",
   "execution_count": 5,
   "id": "7f98640d",
   "metadata": {},
   "outputs": [
    {
     "name": "stdout",
     "output_type": "stream",
     "text": [
      "0.5 0.5294650923641242\n"
     ]
    },
    {
     "data": {
      "text/plain": [
       "<AxesSubplot:ylabel='Frequency'>"
      ]
     },
     "execution_count": 5,
     "metadata": {},
     "output_type": "execute_result"
    },
    {
     "data": {
      "image/png": "[encoded data removed]",
      "text/plain": [
       "<Figure size 432x288 with 1 Axes>"
      ]
     },
     "metadata": {
      "needs_background": "light"
     },
     "output_type": "display_data"
    }
   ],
   "source": [
    "# This is # CLAIM 3.5 in the paper: It has no dependence on epsilon\n",
    "log_6 = np.log(6)\n",
    "two_n = 2*n \n",
    "mu_mn = m/n + np.sqrt(2*log_6/n)\n",
    "\n",
    "p_0 = 1/2\n",
    "p_1 = 1/2 + 1/2*mu_mn\n",
    "print(p_0, p_1)\n",
    "d = {'corrupted': [], 'non_corrupted': []}\n",
    "for epoch in range(1000):\n",
    "    d['corrupted'].append(np.random.binomial(n-m, p_0)+m)\n",
    "    d['non_corrupted'].append(np.random.binomial(n, p_1))\n",
    "    \n",
    "pd.DataFrame(d).plot(kind='hist')"
   ]
  },
  {
   "cell_type": "code",
   "execution_count": 6,
   "id": "5486a18b",
   "metadata": {},
   "outputs": [
    {
     "name": "stdout",
     "output_type": "stream",
     "text": [
      "0.5 0.5058156820408254\n"
     ]
    },
    {
     "data": {
      "text/plain": [
       "<AxesSubplot:ylabel='Frequency'>"
      ]
     },
     "execution_count": 6,
     "metadata": {},
     "output_type": "execute_result"
    },
    {
     "data": {
      "image/png": "[encoded data removed]",
      "text/plain": [
       "<Figure size 432x288 with 1 Axes>"
      ]
     },
     "metadata": {
      "needs_background": "light"
     },
     "output_type": "display_data"
    }
   ],
   "source": [
    "# THE CORRECTED FORMULAE with dependence on epsilon\n",
    "eps = 0.1\n",
    "tmp = (np.e**eps-1)/(np.e**eps+1)\n",
    "mu_mne = mu_mn*tmp\n",
    "p_2 = 1/2 + 1/2*mu_mne\n",
    "print(p_0, p_2)\n",
    "\n",
    "d = {'corrupted': [], 'non_corrupted': []}\n",
    "for epoch in range(1000):\n",
    "    d['corrupted'].append(np.random.binomial(n-m, p_0)+m)\n",
    "    d['non_corrupted'].append(np.random.binomial(n, p_2))\n",
    "    \n",
    "pd.DataFrame(d).plot(kind='hist')"
   ]
  },
  {
   "cell_type": "code",
   "execution_count": 7,
   "id": "ce422c4e",
   "metadata": {},
   "outputs": [
    {
     "name": "stdout",
     "output_type": "stream",
     "text": [
      "0.5 0.6492845829486155\n"
     ]
    },
    {
     "data": {
      "text/plain": [
       "<AxesSubplot:ylabel='Frequency'>"
      ]
     },
     "execution_count": 7,
     "metadata": {},
     "output_type": "execute_result"
    },
    {
     "data": {
      "image/png": "[encoded data removed]",
      "text/plain": [
       "<Figure size 432x288 with 1 Axes>"
      ]
     },
     "metadata": {
      "needs_background": "light"
     },
     "output_type": "display_data"
    }
   ],
   "source": [
    "####### USING THE FORMULA in the paper\n",
    "tmp = (np.e**eps+1)/(np.e**eps-1) #<------\n",
    "##############################\n",
    "\n",
    "mu_mne = mu_mn*tmp\n",
    "\n",
    "p_2 = 1/2 + 1/2*mu_mne\n",
    "print(p_0, p_2)\n",
    "\n",
    "d = {'corrupted': [], 'non_corrupted': []}\n",
    "for epoch in range(1000):\n",
    "    d['corrupted'].append(np.random.binomial(n-m, p_0)+m)\n",
    "    d['non_corrupted'].append(np.random.binomial(n, p_2))\n",
    "    \n",
    "pd.DataFrame(d).plot(kind='hist')\n"
   ]
  },
  {
   "cell_type": "code",
   "execution_count": null,
   "id": "a4f6ae77",
   "metadata": {},
   "outputs": [],
   "source": []
  }
 ],
 "metadata": {
  "kernelspec": {
   "display_name": "Python 3 (ipykernel)",
   "language": "python",
   "name": "python3"
  },
  "language_info": {
   "codemirror_mode": {
    "name": "ipython",
    "version": 3
   },
   "file_extension": ".py",
   "mimetype": "text/x-python",
   "name": "python",
   "nbconvert_exporter": "python",
   "pygments_lexer": "ipython3",
   "version": "3.8.9"
  }
 },
 "nbformat": 4,
 "nbformat_minor": 5
}
